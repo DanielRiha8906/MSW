{
 "cells": [
  {
   "cell_type": "markdown",
   "metadata": {},
   "source": [
    "# První Úloha"
   ]
  },
  {
   "cell_type": "markdown",
   "metadata": {},
   "source": [
    "## Načtení Knihoven"
   ]
  },
  {
   "cell_type": "code",
   "execution_count": 2,
   "metadata": {},
   "outputs": [],
   "source": [
    "from math import factorial\n",
    "import time\n",
    "import scipy.integrate as integrate\n",
    "import numpy as np\n"
   ]
  },
  {
   "cell_type": "markdown",
   "metadata": {},
   "source": [
    "## Factorial"
   ]
  },
  {
   "cell_type": "markdown",
   "metadata": {},
   "source": [
    "### Čistý Python"
   ]
  },
  {
   "cell_type": "code",
   "execution_count": 3,
   "metadata": {},
   "outputs": [
    {
     "name": "stdout",
     "output_type": "stream",
     "text": [
      "Vysledek python: 1600678593\n",
      "Doba pythonu: 0.00014352798461914062\n",
      "\n"
     ]
    }
   ],
   "source": [
    "start = time.time()\n",
    "n = 453\n",
    "result = 1\n",
    "\n",
    "for i in range(1, n+1):\n",
    "    result = result * i \n",
    "end = time.time()\n",
    "result = str(result)\n",
    "\n",
    "print(f\"Vysledek python: {result[:10]}\" )\n",
    "print(f\"Doba pythonu: {(end - start)}\\n\")"
   ]
  },
  {
   "cell_type": "markdown",
   "metadata": {},
   "source": [
    "### Knihovna Math"
   ]
  },
  {
   "cell_type": "code",
   "execution_count": 4,
   "metadata": {},
   "outputs": [
    {
     "name": "stdout",
     "output_type": "stream",
     "text": [
      "Vysledek math: 1600678593\n",
      "Doba knihovny math: 4.38690185546875e-05\n",
      "Rozdíl math vs python: -9.965896606445312e-05\n"
     ]
    }
   ],
   "source": [
    "result = 0\n",
    "start_time = time.time()\n",
    "result = factorial(453)\n",
    "end_time = time.time()\n",
    "result = str(result)\n",
    "\n",
    "print(f\"Vysledek math: {result[:10]}\")\n",
    "print(f\"Doba knihovny math: {(end_time - start_time)}\")\n",
    "print(f\"Rozdíl math vs python: {(end_time - start_time) - (end - start)}\")"
   ]
  },
  {
   "cell_type": "markdown",
   "metadata": {},
   "source": [
    "## Integrál"
   ]
  },
  {
   "cell_type": "markdown",
   "metadata": {},
   "source": [
    "### Čistý Python"
   ]
  },
  {
   "cell_type": "code",
   "execution_count": 5,
   "metadata": {},
   "outputs": [
    {
     "name": "stdout",
     "output_type": "stream",
     "text": [
      "Vysledek Python: 2.1668166712500403\n",
      "Doba trvani Python: 0.010005712509155273\n"
     ]
    }
   ],
   "source": [
    "def f(x):\n",
    "    return (x**2 - x + 4) / 4\n",
    "\n",
    "start = time.time()\n",
    "\n",
    "result = 0.0\n",
    "x = 0\n",
    "b = 2\n",
    "dx = 0.0001\n",
    "\n",
    "while x < b:\n",
    "    result += dx * (f(x) + f(x + dx)) / 2\n",
    "    x += dx\n",
    "\n",
    "end = time.time()\n",
    "print(f\"Vysledek Python: {result}\")\n",
    "print(f\"Doba trvani Python: {(end - start)}\")"
   ]
  },
  {
   "cell_type": "markdown",
   "metadata": {},
   "source": [
    "### Scipy"
   ]
  },
  {
   "cell_type": "code",
   "execution_count": 6,
   "metadata": {},
   "outputs": [
    {
     "name": "stdout",
     "output_type": "stream",
     "text": [
      "Vysledek Scipy: 2.166666666666667\n",
      "Doba trvani Scipy: 0.00011444091796875\n",
      "Rozdíl Scipy vs Python: -0.009891271591186523\n"
     ]
    }
   ],
   "source": [
    "start_time = time.time()\n",
    "result, error = integrate.quad(lambda x: (x**2 - x + 4) / 4, 0, 2)\n",
    "end_time = time.time()\n",
    "\n",
    "print(f\"Vysledek Scipy: {result}\")\n",
    "print(f\"Doba trvani Scipy: {(end_time - start_time)}\")\n",
    "\n",
    "print(f\"Rozdíl Scipy vs Python: {(end_time - start_time) - (end - start)}\")"
   ]
  },
  {
   "cell_type": "markdown",
   "metadata": {},
   "source": [
    "## Jacobinova Metoda"
   ]
  },
  {
   "cell_type": "markdown",
   "metadata": {},
   "source": [
    "### Čistý Python"
   ]
  },
  {
   "cell_type": "code",
   "execution_count": 7,
   "metadata": {},
   "outputs": [],
   "source": [
    "def jacobi_method(A, b, x0=None, tolerance=1e-10, max_iterations=1000):\n",
    "    n = len(A)\n",
    "    if x0 is None:\n",
    "        x0 = np.zeros(n)\n",
    "    x = x0.copy()\n",
    "    x_new = x0.copy()\n",
    "\n",
    "    for iteration in range(max_iterations):\n",
    "        for i in range(n):\n",
    "            sum_Ax = sum(A[i][j] * x[j] for j in range(n) if j != i)\n",
    "            x_new[i] = (b[i] - sum_Ax) / A[i][i]\n",
    "        if np.allclose(x, x_new, atol=tolerance):\n",
    "            return x_new\n",
    "\n",
    "        x = x_new.copy()\n",
    "\n",
    "    raise ValueError(\"Jacobi method did not converge within the maximum number of iterations\")\n",
    "\n",
    "A = np.array([\n",
    "    [10, -1,  2, 0, 0],\n",
    "    [-1, 11, -1, 3, 0],\n",
    "    [ 2, -1, 10, -1, 0],\n",
    "    [ 0,  3, -1, 8, -1],\n",
    "    [ 0,  0,  0, -1, 5]\n",
    "])\n",
    "b = np.array([6, 25, -11, 15, 10])\n",
    "x0 = np.zeros(len(b))\n",
    "\n",
    "start = time.time()\n",
    "result_python = jacobi_method(A, b, x0)\n",
    "end = time.time()"
   ]
  },
  {
   "cell_type": "markdown",
   "metadata": {},
   "source": [
    "### Numpy"
   ]
  },
  {
   "cell_type": "code",
   "execution_count": 8,
   "metadata": {},
   "outputs": [
    {
     "name": "stdout",
     "output_type": "stream",
     "text": [
      "Vysledek Python:\n",
      "x0 = 0.986226\n",
      "x1 = 1.914287\n",
      "x2 = -0.973979\n",
      "x3 = 1.318350\n",
      "x4 = 2.263672\n",
      "Vysledek Numpy:\n",
      "x0 = 0.986225\n",
      "x1 = 1.914290\n",
      "x2 = -0.973981\n",
      "x3 = 1.318353\n",
      "x4 = 2.263671\n",
      "Doba trvani Python: 0.0008645057678222656\n",
      "Doba trvani Numpy: 0.00016927719116210938\n",
      "Rozdíl Numpy vs python: -0.0006952285766601562\n"
     ]
    }
   ],
   "source": [
    "start_time = time.time()\n",
    "result_scipy = np.linalg.solve(A, b)\n",
    "end_time = time.time()\n",
    "\n",
    "print(\"Vysledek Python:\")\n",
    "for i, x_i in enumerate(result_python):\n",
    "    print(f\"x{i} = {x_i:.6f}\")\n",
    "\n",
    "print(\"Vysledek Numpy:\")\n",
    "for i, x_i in enumerate(result_scipy):\n",
    "    print(f\"x{i} = {x_i:.6f}\")\n",
    "print(\"Doba trvani Python:\", end - start)\n",
    "print(\"Doba trvani Numpy:\", end_time - start_time)\n",
    "print(\"Rozdíl Numpy vs python:\", (end_time - start_time) - (end - start))"
   ]
  },
  {
   "cell_type": "markdown",
   "metadata": {},
   "source": [
    "## Nasobení matice"
   ]
  },
  {
   "cell_type": "markdown",
   "metadata": {},
   "source": [
    "### Čistý Python"
   ]
  },
  {
   "cell_type": "code",
   "execution_count": 9,
   "metadata": {},
   "outputs": [
    {
     "name": "stdout",
     "output_type": "stream",
     "text": [
      "Vysledek Python: [[250, 11900, 8650], [575, 16875, 550], [875, 33900, 1050]]\n",
      "Doba trvani Python: 9.059906005859375e-05\n"
     ]
    }
   ],
   "source": [
    "start = time.time()\n",
    "\n",
    "result = [[10, 476, 346], [23, 675, 22], [35, 1356, 42]]\n",
    "\n",
    "for i in range(len(result)):\n",
    "    for j in range(len(result[0])):\n",
    "        result[i][j] = result[i][j]*25\n",
    "\n",
    "end = time.time()\n",
    "\n",
    "print(f\"Vysledek Python: {result}\")\n",
    "print(f\"Doba trvani Python: {(end - start)}\")\n"
   ]
  },
  {
   "cell_type": "markdown",
   "metadata": {},
   "source": [
    "### Numpy"
   ]
  },
  {
   "cell_type": "code",
   "execution_count": 10,
   "metadata": {},
   "outputs": [
    {
     "name": "stdout",
     "output_type": "stream",
     "text": [
      "Vysledek Numpy: [[  250 11900  8650]\n",
      " [  575 16875   550]\n",
      " [  875 33900  1050]]\n",
      "Doba trvani Numpy: 0.10078883171081543\n",
      "Rozdil Numpy vs Python: 0.10069823265075684\n"
     ]
    }
   ],
   "source": [
    "matrix = [[10, 476, 346], [23, 675, 22], [35, 1356, 42]]\n",
    "result = np.array(matrix)*25\n",
    "end_time = time.time()\n",
    "\n",
    "print(f\"Vysledek Numpy: {result}\")\n",
    "print(f\"Doba trvani Numpy: {(end_time - start_time)}\")\n",
    "print(f\"Rozdil Numpy vs Python: {(end_time - start_time) - (end - start)}\")"
   ]
  },
  {
   "cell_type": "markdown",
   "metadata": {},
   "source": [
    "## Skalární Součin"
   ]
  },
  {
   "cell_type": "markdown",
   "metadata": {},
   "source": [
    "### Čistý Python"
   ]
  },
  {
   "cell_type": "code",
   "execution_count": 11,
   "metadata": {},
   "outputs": [
    {
     "name": "stdout",
     "output_type": "stream",
     "text": [
      "Vysledek python: 107\n",
      "Doba trvani python: 0.00010061264038085938\n"
     ]
    }
   ],
   "source": [
    "start = time.time()\n",
    "\n",
    "result = 0\n",
    "a = (3, 9, 5)\n",
    "b = (8, 7, 4)\n",
    "\n",
    "for i in range(len(a)):\n",
    "    result += a[i]*b[i]\n",
    "\n",
    "end = time.time()\n",
    "print(f\"Vysledek python: {result}\")\n",
    "print(f\"Doba trvani python: {(end - start)}\")"
   ]
  },
  {
   "cell_type": "markdown",
   "metadata": {},
   "source": [
    "### Numpy"
   ]
  },
  {
   "cell_type": "code",
   "execution_count": 12,
   "metadata": {},
   "outputs": [
    {
     "name": "stdout",
     "output_type": "stream",
     "text": [
      "Vysledek numpy: 107\n",
      "Doba trvani numpy: 0.00021076202392578125\n",
      "Rozdíl Numpy vs Python : 0.05413365364074707\n"
     ]
    }
   ],
   "source": [
    "start_time = time.time()\n",
    "\n",
    "a = np.array([3, 9, 5])\n",
    "b = np.array([8, 7, 4])\n",
    "\n",
    "result = sum(a*b)\n",
    "\n",
    "end_time = time.time()\n",
    "print(f\"Vysledek numpy: {result}\")\n",
    "print(f\"Doba trvani numpy: {(end_time - start_time)}\")\n",
    "print(f\"Rozdíl Numpy vs Python : {(end_time - start) - (end - start)}\")"
   ]
  }
 ],
 "metadata": {
  "kernelspec": {
   "display_name": "Python 3 (ipykernel)",
   "language": "python",
   "name": "python3"
  },
  "language_info": {
   "codemirror_mode": {
    "name": "ipython",
    "version": 3
   },
   "file_extension": ".py",
   "mimetype": "text/x-python",
   "name": "python",
   "nbconvert_exporter": "python",
   "pygments_lexer": "ipython3",
   "version": "3.12.4"
  }
 },
 "nbformat": 4,
 "nbformat_minor": 2
}
