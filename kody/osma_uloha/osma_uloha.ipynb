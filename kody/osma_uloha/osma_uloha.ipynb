{
 "cells": [
  {
   "cell_type": "markdown",
   "metadata": {},
   "source": [
    "# Osmá Úloha"
   ]
  },
  {
   "cell_type": "markdown",
   "metadata": {},
   "source": [
    "## Načtení Knihoven"
   ]
  },
  {
   "cell_type": "code",
   "execution_count": 1,
   "metadata": {},
   "outputs": [],
   "source": [
    "import math"
   ]
  },
  {
   "cell_type": "markdown",
   "metadata": {},
   "source": [
    "## Definování funkcí"
   ]
  },
  {
   "cell_type": "code",
   "execution_count": 2,
   "metadata": {},
   "outputs": [],
   "source": [
    "cubic_function = lambda x : x**3\n",
    "derived_function = lambda x : 3*x**2"
   ]
  },
  {
   "cell_type": "markdown",
   "metadata": {},
   "source": [
    "## Adaptabilní krok"
   ]
  },
  {
   "cell_type": "code",
   "execution_count": 3,
   "metadata": {},
   "outputs": [],
   "source": [
    "def adaptive_derivative(f, x, tol=1e-5):\n",
    "    h = 0.1\n",
    "    delta = 1\n",
    "    while delta > tol:\n",
    "        h /= 2\n",
    "        xph = x + h\n",
    "        xmh = x - h\n",
    "        num_deriv = (f(xph) - f(xmh)) / (2*h)\n",
    "        h /= 2\n",
    "        xph = x + h\n",
    "        xmh = x - h\n",
    "        num_deriv2 = (f(xph) - f(xmh)) / (2*h)\n",
    "        delta = abs(num_deriv - num_deriv2)\n",
    "    return num_deriv"
   ]
  },
  {
   "cell_type": "markdown",
   "metadata": {},
   "source": [
    "## Pevný krok"
   ]
  },
  {
   "cell_type": "code",
   "execution_count": 4,
   "metadata": {},
   "outputs": [],
   "source": [
    "def fixed_derivative(f, x, h=0.1):\n",
    "    xph = x + h\n",
    "    xmh = x - h\n",
    "    num_deriv = (f(xph) - f(xmh)) / (2*h)\n",
    "    return num_deriv"
   ]
  },
  {
   "cell_type": "markdown",
   "metadata": {},
   "source": [
    "## Řešení"
   ]
  },
  {
   "cell_type": "code",
   "execution_count": 5,
   "metadata": {},
   "outputs": [
    {
     "name": "stdout",
     "output_type": "stream",
     "text": [
      "Kontrolní Řešení: 12\n",
      "Derivace s Adaptabilním krokem: 12.00000976562464\n",
      "Derivace s pevným krokem: 12.010000000000009\n"
     ]
    }
   ],
   "source": [
    "print(\"Kontrolní Řešení:\", derived_function(2))\n",
    "print(\"Derivace s Adaptabilním krokem:\", adaptive_derivative(cubic_function, 2))\n",
    "print(\"Derivace s pevným krokem:\", fixed_derivative(cubic_function, 2))"
   ]
  }
 ],
 "metadata": {
  "kernelspec": {
   "display_name": "Python 3 (ipykernel)",
   "language": "python",
   "name": "python3"
  },
  "language_info": {
   "codemirror_mode": {
    "name": "ipython",
    "version": 3
   },
   "file_extension": ".py",
   "mimetype": "text/x-python",
   "name": "python",
   "nbconvert_exporter": "python",
   "pygments_lexer": "ipython3",
   "version": "3.12.4"
  }
 },
 "nbformat": 4,
 "nbformat_minor": 2
}
