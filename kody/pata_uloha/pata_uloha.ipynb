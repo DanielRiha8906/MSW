{
 "cells": [
  {
   "cell_type": "markdown",
   "metadata": {},
   "source": [
    "# Pátá Úloha"
   ]
  },
  {
   "cell_type": "markdown",
   "metadata": {},
   "source": [
    "## Načtení knihoven"
   ]
  },
  {
   "cell_type": "code",
   "execution_count": 1,
   "metadata": {},
   "outputs": [],
   "source": [
    "import numpy as np\n",
    "from numpy import cos, sin, log\n",
    "import matplotlib.pyplot as plt\n",
    "from scipy.misc import derivative\n",
    "import time"
   ]
  },
  {
   "cell_type": "markdown",
   "metadata": {},
   "source": [
    "## Načtení Funkcí"
   ]
  },
  {
   "cell_type": "code",
   "execution_count": 2,
   "metadata": {},
   "outputs": [],
   "source": [
    "cubic_function = lambda x : x**3 - 2*x**2 + 4*x -2\n",
    "goniometric_function = lambda x : -sin(2*x) + cos(2*x) + x\n",
    "logarithmic_function = lambda x : log(x**3) -1\n"
   ]
  },
  {
   "cell_type": "markdown",
   "metadata": {},
   "source": [
    "## Neohraničená metoda"
   ]
  },
  {
   "cell_type": "code",
   "execution_count": 3,
   "metadata": {},
   "outputs": [],
   "source": [
    "def bisection(f, a, b, tol):\n",
    "    start_time = time.time()\n",
    "    if f(a) * f(b) >= 0:\n",
    "        raise ValueError(\"f(a) and f(b) must have opposite signs for bisection method to work.\")\n",
    "    c = (a + b) / 2\n",
    "    while (b - a) / 2 > tol:\n",
    "        if f(c) == 0:\n",
    "            break\n",
    "        elif f(a) * f(c) < 0:\n",
    "            b = c\n",
    "        else:\n",
    "            a = c\n",
    "        c = (a + b) / 2\n",
    "    end_time = time.time()\n",
    "    return c, end_time - start_time"
   ]
  },
  {
   "cell_type": "markdown",
   "metadata": {},
   "source": [
    "## Ohraničená Metoda"
   ]
  },
  {
   "cell_type": "code",
   "execution_count": 4,
   "metadata": {},
   "outputs": [],
   "source": [
    "def newton(f, x0, tol):\n",
    "    start_time = time.time()\n",
    "    x1 = x0 - f(x0)/derivative(f, x0)\n",
    "    while abs(x1 - x0) > tol:\n",
    "        x0 = x1\n",
    "        x1 = x0 - f(x0)/derivative(f, x0)\n",
    "    end_time = time.time()\n",
    "    return x1, end_time - start_time\n"
   ]
  },
  {
   "cell_type": "markdown",
   "metadata": {},
   "source": [
    "## Nalezení kořenů"
   ]
  },
  {
   "cell_type": "code",
   "execution_count": 5,
   "metadata": {},
   "outputs": [
    {
     "name": "stderr",
     "output_type": "stream",
     "text": [
      "/tmp/ipykernel_8246/811503037.py:3: DeprecationWarning: scipy.misc.derivative is deprecated in SciPy v1.10.0; and will be completely removed in SciPy v1.12.0. You may consider using findiff: https://github.com/maroba/findiff or numdifftools: https://github.com/pbrod/numdifftools\n",
      "  x1 = x0 - f(x0)/derivative(f, x0)\n",
      "/tmp/ipykernel_8246/811503037.py:6: DeprecationWarning: scipy.misc.derivative is deprecated in SciPy v1.10.0; and will be completely removed in SciPy v1.12.0. You may consider using findiff: https://github.com/maroba/findiff or numdifftools: https://github.com/pbrod/numdifftools\n",
      "  x1 = x0 - f(x0)/derivative(f, x0)\n",
      "/tmp/ipykernel_8246/1591747846.py:3: RuntimeWarning: invalid value encountered in log\n",
      "  logarithmic_function = lambda x : log(x**3) -1\n",
      "/tmp/ipykernel_8246/1591747846.py:3: RuntimeWarning: divide by zero encountered in log\n",
      "  logarithmic_function = lambda x : log(x**3) -1\n"
     ]
    }
   ],
   "source": [
    "root1_bisect, time1_bisect = bisection(cubic_function, -5, 5, 1e-6)\n",
    "root1_newton, time1_newton = newton(cubic_function, 1, 1e-6)\n",
    "\n",
    "root2_bisect, time2_bisect = bisection(goniometric_function, -5, 5, 1e-6)\n",
    "root2_newton, time2_newton = newton(goniometric_function, -1, 1e-6)\n",
    "\n",
    "root3_bisect, time3_bisect = bisection(logarithmic_function, -3, 3, 1e-6)\n",
    "root3_newton, time3_newton = newton(logarithmic_function, 2, 1e-6)\n"
   ]
  },
  {
   "cell_type": "markdown",
   "metadata": {},
   "source": [
    "## Výsledek"
   ]
  },
  {
   "cell_type": "code",
   "execution_count": 6,
   "metadata": {},
   "outputs": [
    {
     "name": "stdout",
     "output_type": "stream",
     "text": [
      "Funkce f(x) = x^3 - x^2 + 2\n",
      "Kořen nalezený pomocí ohraničené metody půlení intervalu:  0.6388968229293823 čas: 4.2438507080078125e-05\n",
      "Kořen nalezený pomocí neohraničené Newtonovy metody:  0.6388971733134103 čas: 0.00043845176696777344\n",
      "Čas bisekce - newton: -0.0003960132598876953\n",
      "\n",
      "\n",
      "Funkce g(x) = 2^x - 3x\n",
      "Kořen nalezený pomocí ohraničené metody půlení intervalu:  -0.8539468050003052 čas: 0.0002560615539550781\n",
      "Kořen nalezený pomocí neohraničené Newtonovy metody:  -0.8539477136991899 čas: 0.0007808208465576172\n",
      "Čas bisekce - newton: -0.0005247592926025391\n",
      "\n",
      "\n",
      "Funkce h(x) = 5 - x^3\n",
      "Kořen nalezený pomocí ohraničené metody půlení intervalu:  1.3956120014190674 čas: 0.00018286705017089844\n",
      "Kořen nalezený pomocí neohraničené Newtonovy metody:  1.3956122370512714 čas: 0.00022292137145996094\n",
      "Čas bisekce - newton: -4.00543212890625e-05\n"
     ]
    }
   ],
   "source": [
    "print(\"Funkce f(x) = x^3 - x^2 + 2\")\n",
    "print(\"Kořen nalezený pomocí ohraničené metody půlení intervalu: \", root1_bisect, \"čas:\", time1_bisect)\n",
    "print(\"Kořen nalezený pomocí neohraničené Newtonovy metody: \", root1_newton, \"čas:\", time1_newton)\n",
    "print(f\"Čas bisekce - newton: {time1_bisect-time1_newton}\")\n",
    "print(\"\\n\")\n",
    "print(\"Funkce g(x) = 2^x - 3x\")\n",
    "print(\"Kořen nalezený pomocí ohraničené metody půlení intervalu: \", root2_bisect, \"čas:\", time2_bisect)\n",
    "print(\"Kořen nalezený pomocí neohraničené Newtonovy metody: \", root2_newton, \"čas:\", time2_newton)\n",
    "print(f\"Čas bisekce - newton: {time2_bisect - time2_newton}\")\n",
    "print(\"\\n\")\n",
    "print(\"Funkce h(x) = 5 - x^3\")\n",
    "print(\"Kořen nalezený pomocí ohraničené metody půlení intervalu: \", root3_bisect, \"čas:\", time3_bisect)\n",
    "print(\"Kořen nalezený pomocí neohraničené Newtonovy metody: \", root3_newton, \"čas:\", time3_newton)\n",
    "print(f\"Čas bisekce - newton: {time3_bisect - time3_newton}\")"
   ]
  }
 ],
 "metadata": {
  "kernelspec": {
   "display_name": "Python 3 (ipykernel)",
   "language": "python",
   "name": "python3"
  },
  "language_info": {
   "codemirror_mode": {
    "name": "ipython",
    "version": 3
   },
   "file_extension": ".py",
   "mimetype": "text/x-python",
   "name": "python",
   "nbconvert_exporter": "python",
   "pygments_lexer": "ipython3",
   "version": "3.12.5"
  }
 },
 "nbformat": 4,
 "nbformat_minor": 2
}
